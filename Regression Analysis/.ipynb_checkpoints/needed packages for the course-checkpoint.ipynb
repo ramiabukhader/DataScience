{
 "cells": [
  {
   "cell_type": "code",
   "execution_count": 2,
   "metadata": {},
   "outputs": [],
   "source": [
    "import numpy as np\n",
    "import pandas as pd\n",
    "import scipy\n",
    "import statsmodels.api as sm\n",
    "import matplotlib as plt\n",
    "import seaborn as sns\n",
    "import sklearn"
   ]
  },
  {
   "cell_type": "markdown",
   "metadata": {},
   "source": [
    "Numpy : a third-party package allowing us to work with mlutidimensional array\n",
    "Pandas : allows us to organize data in a tabular form and to attach descriptive labels to the rows and colums\n",
    "scipy: python echo system contain a lot of tools for calculations\n",
    "matplitlib: a 2D plotting designed for visualization of NumPy computations\n",
    "statsmodel.api: provide very good summeries\n",
    "seaborn: python visualization library\n",
    "sklearn: is one of the most widely used machine learning librearies"
   ]
  }
 ],
 "metadata": {
  "kernelspec": {
   "display_name": "Python 3",
   "language": "python",
   "name": "python3"
  },
  "language_info": {
   "codemirror_mode": {
    "name": "ipython",
    "version": 3
   },
   "file_extension": ".py",
   "mimetype": "text/x-python",
   "name": "python",
   "nbconvert_exporter": "python",
   "pygments_lexer": "ipython3",
   "version": "3.7.4"
  }
 },
 "nbformat": 4,
 "nbformat_minor": 2
}
